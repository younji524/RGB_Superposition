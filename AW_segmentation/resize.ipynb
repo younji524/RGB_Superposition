{
 "cells": [
  {
   "cell_type": "code",
   "execution_count": 1,
   "metadata": {},
   "outputs": [],
   "source": [
    "import numpy as np\n",
    "import cv2\n",
    "import os\n",
    "import pandas as pd\n",
    "import glob"
   ]
  },
  {
   "cell_type": "code",
   "execution_count": null,
   "metadata": {
    "collapsed": true,
    "jupyter": {
     "outputs_hidden": true,
     "source_hidden": true
    },
    "tags": []
   },
   "outputs": [],
   "source": [
    "# crop image files according to ROI data"
    "test_pred=pd.read_csv('/home/ubuntu/gcubme4/Workspace/YJ_Kim/exp4_3_PP/data/image/img_all/img_all_PP_dataAdd.csv')\n",
    "paths = test_pred['path'].tolist()\n",
    "\n",
    "x1=test_pred['x1'].tolist()\n",
    "y1=test_pred['y1'].tolist()\n",
    "x2=test_pred['x2'].tolist()\n",
    "y2=test_pred['y2'].tolist()\n",
    "# path=test_pred['path'].tolist()"
   ]
  },
  {
   "cell_type": "code",
   "execution_count": 10,
   "metadata": {
    "jupyter": {
     "source_hidden": true
    },
    "tags": []
   },
   "outputs": [],
   "source": [
    "from PIL import Image\n",
    "\n",
    "for i, path in enumerate(paths):\n",
    "    img_file = \"/home/ubuntu/gcubme4/Workspace/YJ_Kim/exp4_3_PP/data/image/img_all/P_all/\"\n",
    "    fname = path[path.rindex('/')+1:]\n",
    "    img_path = os.path.join(img_file, fname)\n",
    "    img = cv2.imread(img_path,cv2.IMREAD_COLOR)\n",
    "    #draw_img = cv2.rectangle(img,(x1[i],y1[i]),(x2[i],y2[i]),(0,0,255),4)\n",
    "\n",
    "    h = y2[i]-y1[i]\n",
    "    w = x2[i]-x1[i]\n",
    "    cropped_img = img[y1[i]: y1[i]+h, x1[i]: x1[i]+w]\n",
    "\n",
    "    img_save_path = '/home/ubuntu/gcubme4/Workspace/YJ_Kim/exp4_3_PP/data/image/img_all/P_all_crop/'\n",
    "    img_name = fname[:-4]\n",
    "    cv2.imwrite(img_save_path+ img_name+'_crop'+'.jpg',cropped_img)"
   ]
  },
  {
   "cell_type": "code",
   "execution_count": 3,
   "metadata": {},
   "outputs": [],
   "source": [
    "# crop image files as rectangle according to shorter side"
    "# test_pred=pd.read_csv('/home/ubuntu/gcubme4/Workspace/YJ_Kim/exp4_3_PP/data/image/img_all/img_all_PP_dataAdd.csv')\n",
    "# paths = test_pred['path'].tolist()\n",
    "# path=test_pred['path'].tolist()\n",
    "path_=\"../rawdata/A/*\"\n",
    "pathes=glob.glob(path_)"
   ]
  },
  {
   "cell_type": "code",
   "execution_count": 4,
   "metadata": {},
   "outputs": [],
   "source": [
    "from PIL import ImageOps\n",
    "\n",
    "def crop_center(img):\n",
    "    if type(img) == np.ndarray:\n",
    "        #print('USE Numpy') \n",
    "        y, x, c = img.shape\n",
    "        sx = x // 2-(min(x, y) // 2)\n",
    "        sy = y // 2-(min(x, y) // 2)\n",
    "        img = img[sy:sy+min(x,y), sx:sx+min(x,y)]\n",
    "    #else:\n",
    "        #print('Use PIL')  \n",
    "        #x, y = img.width, img.height\n",
    "        #sx = x // 2-(min(x, y) // 2)\n",
    "        #sy = y // 2-(min(x, y) // 2)\n",
    "        #img = img.crop((sx, sy, sx+min(x, y), sy+min(x, y)))\n",
    "    return img\n"
   ]
  },
  {
   "cell_type": "code",
   "execution_count": null,
   "metadata": {},
   "outputs": [],
   "source": [
    "for i in range (0,len(pathes)):\n",
    "    img_file=\"../rawdata/A/\"\n",
    "    fname = [s for s in (os.listdir(img_file))if s.endswith(\".jpg\")]\n",
    "    img_path=os.path.join(img_file, fname[i])\n",
    "    img = cv2.imread(img_path,cv2.IMREAD_COLOR)\n",
    "    \n",
    "    resize_img=crop_center(img)\n",
    "\n",
    "    save_path = '../exp_ori/rawdata_crop/A/'\n",
    "    save=save_path+fname[i]\n",
    "    cv2.imwrite(save, resize_img)"
   ]
  }
 ],
 "metadata": {
  "kernelspec": {
   "display_name": "Python 3",
   "language": "python",
   "name": "python3"
  },
  "language_info": {
   "codemirror_mode": {
    "name": "ipython",
    "version": 3
   },
   "file_extension": ".py",
   "mimetype": "text/x-python",
   "name": "python",
   "nbconvert_exporter": "python",
   "pygments_lexer": "ipython3",
   "version": "3.6.12"
  }
 },
 "nbformat": 4,
 "nbformat_minor": 4
}
