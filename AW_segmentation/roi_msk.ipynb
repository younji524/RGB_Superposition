{
 "cells": [
  {
   "cell_type": "code",
   "execution_count": 4,
   "metadata": {},
   "outputs": [],
   "source": [
    "import numpy as np\n",
    "import cv2\n",
    "import os\n",
    "import pandas as pd\n",
    "import glob\n",
    "import matplotlib.pyplot as plt\n",
    "from read_roi import read_roi_file, read_roi_zip\n",
    "import tifffile as tiff"
   ]
  },
  {
   "cell_type": "code",
   "execution_count": 11,
   "metadata": {},
   "outputs": [],
   "source": [
    "#roi 읽어서 roi 남기고 mask 만들기\n",
    "roi = []\n",
    "\n",
    "input_file = '../rawdata/cervigram_data_P2.xlsx'\n",
    "read_file = pd.read_excel(input_file, engine='openpyxl')\n",
    "#     roi.append(read_file)\n",
    "for i in range(len(read_file)):\n",
    "    name = read_file['fcode'][i]\n",
    "    img_path = '../rawdata/P2/'+str(name)+'.jpg'\n",
    "# print(os.path.exists(img_path))\n",
    "    \n",
    "    img = cv2.imread(img_path, cv2.IMREAD_COLOR)\n",
    "#     img_RGB = cv2.cvtColor(img, cv2.COLOR_BGR2RGB)\n",
    "\n",
    "    string = read_file['roi'][i]\n",
    "    box_list = string.split('/')\n",
    "    mask = np.zeros_like(img)\n",
    "    \n",
    "    for j in range(len(box_list)):\n",
    "        roi_list = box_list[j].split(',')\n",
    "        x1 = int(roi_list[1])\n",
    "        y1 = int(roi_list[2])\n",
    "        x2 = int(roi_list[3])\n",
    "        y2 = int(roi_list[4])\n",
    "\n",
    "        cv2.rectangle(mask, (x1,y1), (x2,y2), (255, 255, 255), -1)\n",
    "\n",
    "    image_masked = cv2.bitwise_and(img, mask)\n",
    "    save_path = '../mask/P2/'+str(name)+'.jpg'\n",
    "        \n",
    "#         plt.imshow(image_masked)\n",
    "#         plt.show()\n",
    "#         plt.savefig(save_path)\n",
    "    cv2.imwrite(save_path,image_masked)"
   ]
  },
  {
   "cell_type": "code",
   "execution_count": null,
   "metadata": {},
   "outputs": [],
   "source": [
    "#roi 읽어서 roi 남기고 mask 만들기\n",
    "roi = []\n",
    "\n",
    "#     roi.append(read_file)\n",
    "for i in range(540):\n",
    "    img_path = '../rawdata/NAW/'\n",
    "    fname = [s for s in (os.listdir(img_path))if s.endswith(\".jpg\")]\n",
    "    roi_path = '../NAW_roi/'+fname[i][:-4]+'.tif'\n",
    "    print(roi_path)\n",
    "\n",
    "#     print(os.path.exists(roi_path))\n",
    "    \n",
    "    img = cv2.imread(img_path, cv2.IMREAD_COLOR)\n",
    "#     img_RGB = cv2.cvtColor(img, cv2.COLOR_BGR2RGB)\n",
    "    roi = tiff.imread(roi_path)\n",
    "    mask = np.zeros_like(img)\n",
    "    \n",
    "#     for j in range(540):\n",
    "\n",
    "#         cv2.rectangle(mask, roi, (255, 255, 255), -1)\n",
    "\n",
    "    image_masked = cv2.bitwise_and(roi, mask)\n",
    "    save_path='../roi_mask/'+str(name)+'.jpg'\n",
    "        \n",
    "#         plt.imshow(image_masked)\n",
    "#         plt.show()\n",
    "#         plt.savefig(save_path)\n",
    "    cv2.imwrite(save_path,image_masked)"
   ]
  }
 ],
 "metadata": {
  "kernelspec": {
   "display_name": "Python 3",
   "language": "python",
   "name": "python3"
  },
  "language_info": {
   "codemirror_mode": {
    "name": "ipython",
    "version": 3
   },
   "file_extension": ".py",
   "mimetype": "text/x-python",
   "name": "python",
   "nbconvert_exporter": "python",
   "pygments_lexer": "ipython3",
   "version": "3.6.12"
  }
 },
 "nbformat": 4,
 "nbformat_minor": 4
}
