{
 "cells": [
  {
   "cell_type": "code",
   "execution_count": 4,
   "metadata": {},
   "outputs": [],
   "source": [
    "import numpy as np\n",
    "import cv2\n",
    "import os\n",
    "import pandas as pd\n",
    "import glob\n",
    "import matplotlib.pyplot as plt\n",
    "from read_roi import read_roi_file, read_roi_zip\n",
    "import tifffile as tiff"
   ]
  },
  {
   "cell_type": "code",
   "execution_count": 5,
   "metadata": {},
   "outputs": [
    {
     "data": {
      "text/plain": [
       "'/home/ubuntu/gcubme4/Workspace/YJ_Kim/exp2_acetowhite_detection_classification/exp_AW_AP/code'"
      ]
     },
     "execution_count": 5,
     "metadata": {},
     "output_type": "execute_result"
    }
   ],
   "source": [
    "pwd"
   ]
  },
  {
   "cell_type": "code",
   "execution_count": 11,
   "metadata": {},
   "outputs": [],
   "source": [
    "#roi 읽어서 roi 남기고 mask 만들기\n",
    "roi=[]\n",
    "\n",
    "input_file='../rawdata/cervigram_data_P2.xlsx'\n",
    "read_file = pd.read_excel(input_file, engine='openpyxl')\n",
    "#     roi.append(read_file)\n",
    "for i in range(len(read_file)):\n",
    "    name=read_file['fcode'][i]\n",
    "    img_path='../rawdata/P2/'+str(name)+'.jpg'\n",
    "# print(os.path.exists(img_path))\n",
    "    \n",
    "    img = cv2.imread(img_path, cv2.IMREAD_COLOR)\n",
    "#     img_RGB = cv2.cvtColor(img, cv2.COLOR_BGR2RGB)\n",
    "\n",
    "    string=read_file['roi'][i]\n",
    "    box_list=string.split('/')\n",
    "    mask = np.zeros_like(img)\n",
    "    \n",
    "    for j in range(len(box_list)):\n",
    "        roi_list=box_list[j].split(',')\n",
    "        x1=int(roi_list[1])\n",
    "        y1=int(roi_list[2])\n",
    "        x2=int(roi_list[3])\n",
    "        y2=int(roi_list[4])\n",
    "\n",
    "        cv2.rectangle(mask, (x1,y1), (x2,y2), (255, 255, 255), -1)\n",
    "\n",
    "    image_masked = cv2.bitwise_and(img, mask)\n",
    "    save_path='../mask/P2/'+str(name)+'.jpg'\n",
    "        \n",
    "#         plt.imshow(image_masked)\n",
    "#         plt.show()\n",
    "#         plt.savefig(save_path)\n",
    "    cv2.imwrite(save_path,image_masked)"
   ]
  },
  {
   "cell_type": "code",
   "execution_count": 40,
   "metadata": {},
   "outputs": [
    {
     "name": "stdout",
     "output_type": "stream",
     "text": [
      "../NAW_roi/N1_3828082_2_01.tif\n",
      "960\n"
     ]
    },
    {
     "ename": "TypeError",
     "evalue": "Expected Ptr<cv::UMat> for argument 'src2'",
     "output_type": "error",
     "traceback": [
      "\u001b[0;31m---------------------------------------------------------------------------\u001b[0m",
      "\u001b[0;31mTypeError\u001b[0m                                 Traceback (most recent call last)",
      "\u001b[0;32m<ipython-input-40-8f7bdc039570>\u001b[0m in \u001b[0;36m<module>\u001b[0;34m\u001b[0m\n\u001b[1;32m     21\u001b[0m \u001b[0;31m#         cv2.rectangle(mask, roi, (255, 255, 255), -1)\u001b[0m\u001b[0;34m\u001b[0m\u001b[0;34m\u001b[0m\u001b[0;34m\u001b[0m\u001b[0m\n\u001b[1;32m     22\u001b[0m \u001b[0;34m\u001b[0m\u001b[0m\n\u001b[0;32m---> 23\u001b[0;31m     \u001b[0mimage_masked\u001b[0m \u001b[0;34m=\u001b[0m \u001b[0mcv2\u001b[0m\u001b[0;34m.\u001b[0m\u001b[0mbitwise_and\u001b[0m\u001b[0;34m(\u001b[0m\u001b[0mroi\u001b[0m\u001b[0;34m,\u001b[0m \u001b[0mmask\u001b[0m\u001b[0;34m)\u001b[0m\u001b[0;34m\u001b[0m\u001b[0;34m\u001b[0m\u001b[0m\n\u001b[0m\u001b[1;32m     24\u001b[0m     \u001b[0msave_path\u001b[0m\u001b[0;34m=\u001b[0m\u001b[0;34m'../roi_mask/'\u001b[0m\u001b[0;34m+\u001b[0m\u001b[0mstr\u001b[0m\u001b[0;34m(\u001b[0m\u001b[0mname\u001b[0m\u001b[0;34m)\u001b[0m\u001b[0;34m+\u001b[0m\u001b[0;34m'.jpg'\u001b[0m\u001b[0;34m\u001b[0m\u001b[0;34m\u001b[0m\u001b[0m\n\u001b[1;32m     25\u001b[0m \u001b[0;34m\u001b[0m\u001b[0m\n",
      "\u001b[0;31mTypeError\u001b[0m: Expected Ptr<cv::UMat> for argument 'src2'"
     ]
    }
   ],
   "source": [
    "#roi 읽어서 roi 남기고 mask 만들기\n",
    "roi=[]\n",
    "\n",
    "#     roi.append(read_file)\n",
    "for i in range(540):\n",
    "    img_path='../rawdata/NAW/'\n",
    "    fname = [s for s in (os.listdir(img_path))if s.endswith(\".jpg\")]\n",
    "    roi_path='../NAW_roi/'+fname[i][:-4]+'.tif'\n",
    "    print(roi_path)\n",
    "\n",
    "#     print(os.path.exists(roi_path))\n",
    "    \n",
    "    img = cv2.imread(img_path, cv2.IMREAD_COLOR)\n",
    "#     img_RGB = cv2.cvtColor(img, cv2.COLOR_BGR2RGB)\n",
    "    roi = tiff.imread(roi_path)\n",
    "    mask = np.zeros_like(img)\n",
    "    \n",
    "#     for j in range(540):\n",
    "\n",
    "#         cv2.rectangle(mask, roi, (255, 255, 255), -1)\n",
    "\n",
    "    image_masked = cv2.bitwise_and(roi, mask)\n",
    "    save_path='../roi_mask/'+str(name)+'.jpg'\n",
    "        \n",
    "#         plt.imshow(image_masked)\n",
    "#         plt.show()\n",
    "#         plt.savefig(save_path)\n",
    "    cv2.imwrite(save_path,image_masked)"
   ]
  },
  {
   "cell_type": "code",
   "execution_count": null,
   "metadata": {},
   "outputs": [],
   "source": []
  }
 ],
 "metadata": {
  "kernelspec": {
   "display_name": "Python 3",
   "language": "python",
   "name": "python3"
  },
  "language_info": {
   "codemirror_mode": {
    "name": "ipython",
    "version": 3
   },
   "file_extension": ".py",
   "mimetype": "text/x-python",
   "name": "python",
   "nbconvert_exporter": "python",
   "pygments_lexer": "ipython3",
   "version": "3.6.12"
  }
 },
 "nbformat": 4,
 "nbformat_minor": 4
}
