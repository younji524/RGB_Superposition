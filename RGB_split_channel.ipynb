{
 "cells": [
  {
   "cell_type": "code",
   "execution_count": null,
   "metadata": {
    "collapsed": true,
    "jupyter": {
     "outputs_hidden": true
    }
   },
   "outputs": [],
   "source": [
    "import numpy as np\n",
    "import pandas as pd\n",
    "import matplotlib.pyplot as plt\n",
    "import keras\n",
    "import cv2\n",
    "\n",
    "import os # miscellaneous operating system interfaces\n",
    "import shutil # high-level file operations"
   ]
  },
  {
   "cell_type": "code",
   "execution_count": 13,
   "metadata": {},
   "outputs": [
    {
     "name": "stdout",
     "output_type": "stream",
     "text": [
      "439\n"
     ]
    }
   ],
   "source": [
    "# split RGB channel\n",
    "img_ori_path= '../../exp_mask/mask/A'\n",
    "fnames= os.listdir(img_ori_path)\n",
    "print(len(fnames))\n",
    "\n",
    "for i in range(63,len(fnames)):\n",
    "\n",
    "    fname=fnames[i]\n",
    "    img_path=os.path.join(img_ori_path,fname)\n",
    "\n",
    "    img_color=cv2.imread(img_path,cv2.IMREAD_COLOR)\n",
    "\n",
    "    img_b,img_g,img_r=cv2.split(img_color)\n",
    "\n",
    "    save_path='../rawdata/mask/A'\n",
    "    cv2.imwrite(save_path+'/B/'+ fname, img_b)\n",
    "    cv2.imwrite(save_path+'/G/'+ fname, img_g)\n",
    "    cv2.imwrite(save_path+'/R/'+ fname, img_r)\n"
   ]
  }
 ],
 "metadata": {
  "kernelspec": {
   "display_name": "Python 3",
   "language": "python",
   "name": "python3"
  },
  "language_info": {
   "codemirror_mode": {
    "name": "ipython",
    "version": 3
   },
   "file_extension": ".py",
   "mimetype": "text/x-python",
   "name": "python",
   "nbconvert_exporter": "python",
   "pygments_lexer": "ipython3",
   "version": "3.6.12"
  }
 },
 "nbformat": 4,
 "nbformat_minor": 4
}
